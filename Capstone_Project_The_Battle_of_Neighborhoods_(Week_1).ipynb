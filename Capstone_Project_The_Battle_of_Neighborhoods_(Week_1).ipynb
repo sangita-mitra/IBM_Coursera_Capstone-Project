{
  "nbformat": 4,
  "nbformat_minor": 0,
  "metadata": {
    "colab": {
      "name": "Capstone Project - The Battle of Neighborhoods (Week 1).ipynb",
      "provenance": [],
      "collapsed_sections": []
    },
    "kernelspec": {
      "name": "python3",
      "display_name": "Python 3"
    }
  },
  "cells": [
    {
      "cell_type": "markdown",
      "metadata": {
        "id": "h-UtY0pF-ZuP"
      },
      "source": [
        "**The Battle of Neighborhoods | Business Problem | Introduction**"
      ]
    },
    {
      "cell_type": "markdown",
      "metadata": {
        "id": "2qX_a59k-rZp"
      },
      "source": [
        "**INTRODUCTION**"
      ]
    },
    {
      "cell_type": "markdown",
      "metadata": {
        "id": "ieuHeyoD_YLM"
      },
      "source": [
        "Toronto is Canada's largest city and the capital of the province of Ontario. It's a dynamic metropolis with a core of soaring skyscrapers, all dwarfed by the iconic, free-standing CN Tower. This capstone project aims to explore neighborhoods in Toronto, including Central Toronto, East Toronto, West Toronto, and Downtown Toronto. Many people migrate to Canada every year from around the world. Toronto is one of the most desired cities for them. The aim is to help people to explore better facilities around the neighborhoods of Toronto. It will help newcomers access cafes, schools, supermarkets, medical shops, grocery shops, malls, theatres, hospitals, etc. Our findings will help immigrants make informed decisions and address any concerns they have, including the different kinds of cuisines, pubs, parks, provision stores, and what the city has to offer. It will help people make smart and efficient decisions on selecting great neighborhoods out of numbers of other Toronto neighborhoods.\r\n",
        "In this project, I've also explored Thai restaurants in Toronto and tried to find a suitable location to open a new Thai restaurant in the neighborhoods.\r\n",
        "\r\n",
        "\r\n",
        "\r\n"
      ]
    },
    {
      "cell_type": "markdown",
      "metadata": {
        "id": "FXdD2NpJ--0C"
      },
      "source": [
        "**Business Problem**"
      ]
    },
    {
      "cell_type": "markdown",
      "metadata": {
        "id": "V98xkpPk_D6B"
      },
      "source": [
        "This project explores Toronto’s neighborhoods and finds the most suitable location for an entrepreneur to open a Thai restaurant in Toronto. There are many venues to explore, including different cuisines, movie theatres, parks, markets, etc. This project would use Four-square API as its prime data gathering source. It has a database of millions of places, especially their places API, which provides the ability to perform location search, location sharing, and details about a business. We will be using the KMeans Clustering Machine learning algorithm to cluster similar neighborhoods together. The business problems that this project trying to solve are -\r\n",
        "\r\n",
        "1. What are the most common venues for different neighborhoods of Toronto?\r\n",
        "2. If an entrepreneur wants to open a new Thai restaurant, which place would be most suitable?\r\n"
      ]
    },
    {
      "cell_type": "markdown",
      "metadata": {
        "id": "jHd_FwngDtyO"
      },
      "source": [
        ""
      ]
    },
    {
      "cell_type": "markdown",
      "metadata": {
        "id": "sBwHyp4d_HHJ"
      },
      "source": [
        "**Target Audience**"
      ]
    },
    {
      "cell_type": "markdown",
      "metadata": {
        "id": "LQrpD6ul_i4p"
      },
      "source": [
        "This project’s target audience is the newcomers in Toronto neighborhoods and the people who want to open a new Thai restaurant in Toronto, Canada.\r\n"
      ]
    },
    {
      "cell_type": "markdown",
      "metadata": {
        "id": "DnS4slj-_kR7"
      },
      "source": [
        "**Data Description**"
      ]
    },
    {
      "cell_type": "markdown",
      "metadata": {
        "id": "Uoa7797W_6yS"
      },
      "source": [
        "We require geographical location data for Toronto, Cnaada. Using Postal codes we can find out the neighborhoods, boroughs, langitude and latitude of neighborhoods, venues, most popular venue categories and the vanue data related to Thai restaurants."
      ]
    },
    {
      "cell_type": "markdown",
      "metadata": {
        "id": "xGEzGB4f_8Ww"
      },
      "source": [
        "**Data Extraction**"
      ]
    },
    {
      "cell_type": "markdown",
      "metadata": {
        "id": "0vePswEARkp1"
      },
      "source": [
        "Data Link: https://en.wikipedia.org/wiki/List_of_postal_codes_of_Canada:_M\r\n",
        "The wikipedia page has information about -\r\n",
        "1. Postal Code\r\n",
        "2. Borough\r\n",
        "3. Neighborhoods\r\n",
        "4. Latitude\r\n",
        "5. Longitude"
      ]
    },
    {
      "cell_type": "markdown",
      "metadata": {
        "id": "InefEFU1ShRW"
      },
      "source": [
        "**Foursquare API Data**"
      ]
    },
    {
      "cell_type": "markdown",
      "metadata": {
        "id": "8BwhlNQaStOY"
      },
      "source": [
        "We will need data about different venues in different neighborhoods of that specific borough. To gain that information, we will use \"Foursquare\" locational information. Foursquare is a location data provider with information about all manner of venues and events within an area of interest. Such information includes venue names, locations, menus, and even photos. The foursquare location platform will be used as the sole data source since all the stated required information can be obtained through the API. After finding the neighborhoods’ list, we connect to the Foursquare API to gather information about venues inside every neighborhood. For each neighborhood, we have chosen the radius to be 100 meters.\r\n",
        "\r\n",
        "The data retrieved from Foursquare contained venues’ information within a specified distance of the postcodes’ longitude and latitude. The information obtained per venue as follows:\r\n",
        "\r\n",
        "\r\n",
        "1. Neighborhood\r\n",
        "2. Neighborhood Latitude\r\n",
        "3. Neighborhood Longitude\r\n",
        "4. Venue\r\n",
        "5. Name of the venue e.g. the name of a store or restaurant\r\n",
        "6. Venue Latitude\r\n",
        "7. Venue Longitude\r\n",
        "8. Venue Category"
      ]
    }
  ]
}